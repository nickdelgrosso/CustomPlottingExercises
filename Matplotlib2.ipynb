{
 "cells": [
  {
   "cell_type": "code",
   "execution_count": 89,
   "id": "3b91ba9b-d2bb-41b5-a83c-76f2fcb3e577",
   "metadata": {},
   "outputs": [],
   "source": [
    "import seaborn as sns\n",
    "import matplotlib.pyplot as plt"
   ]
  },
  {
   "cell_type": "markdown",
   "id": "88f0b57e-8c24-4fd7-91e5-734ed0c3f36a",
   "metadata": {},
   "source": [
    "# Exploring Matplotlib: Using Seaborn to Teach us how to build practical matplotlib functions\n",
    "\n",
    "Matplotlib's Figures are made up of nested parts:\n",
    "\n",
    "  - **Figure**: The whole window  (`plt.Figure()` or `plt.figure()`)\n",
    "    - **Super Title**: The figure's title (`Figure.suptitle()`)\n",
    "    - **Size**: The figure's width and height ('Figure(figsize=(8, 5))` or `Figure.set_figwidth()` or `Figure.set_figheight()`)\n",
    "    - **Resolution in Dots per Inch**: The figure's print resolution (`Figure(dpi=200)`)\n",
    "    - **Axes**: The subplots in the window.  (`Figure.add_axes([left, bottom, widght, height])` or `Figure.add_subplot(rows, cols, index)`\n",
    "      - **Title**: Title (`Axes.set_title()`)\n",
    "      - **X Limits**: The range of data shown in the x axis (`Axes.set_xlim()`)\n",
    "      - **Y Limits**: The range of data shown in the y axis (`Axes.set_ylim()`)\n",
    "      - **Legend**: A legend (`Axes.legend()`)\n",
    "      - **Artist Data**: When plots are added, various containers of lines, patches, markers, text, etc are added to the Axes, depending on the type of plot.  The best way to access this data is to get the output of the original plotting function.\n",
    "      - **Plot Methods**: Commands to plot some data! This list is best found at https://matplotlib.org/stable/api/axes_api.html#plotting\n",
    "      \n",
    "In this notebook, we'll examine how Seaborn organizes its functions, with the goal of replicating its functions in order to build custom matplotlib figures ourselves.\n",
    "\n",
    "![](https://matplotlib.org/2.0.2/_images/anatomy1.png)"
   ]
  },
  {
   "cell_type": "markdown",
   "id": "8cf6bbee-d362-48ac-887e-fff96201ff79",
   "metadata": {},
   "source": [
    "## Load Penguins Dataset\n",
    "\n",
    "For this set of exercises, we'll be working with seaborn's `penguins` dataset, supplied as a `pandas.DataFrame` object.  \n",
    "\n",
    "**Note**: If this is your first time working with an Pandas DataFrame, no worries!  All you need to know to work with this notebook is:\n",
    "  - `DataFrame.head()`: returns a preview of the first 5 rows of the dataset\n",
    "  - `DataFrame.columns`: returns a list of the names of the columns in the dataset\n",
    "  - `df['column_name']`: returns the data from the column as a Pandas Series\n",
    "  - `df['column_name'].values`: returns the data from the column as a Numpy Array\n",
    "  - `DataFrame.info()`: returns a summary of information about each column"
   ]
  },
  {
   "cell_type": "code",
   "execution_count": 86,
   "id": "fda92209-fc81-4076-8a96-4e0ab44b6d73",
   "metadata": {},
   "outputs": [
    {
     "data": {
      "text/html": [
       "<div>\n",
       "<style scoped>\n",
       "    .dataframe tbody tr th:only-of-type {\n",
       "        vertical-align: middle;\n",
       "    }\n",
       "\n",
       "    .dataframe tbody tr th {\n",
       "        vertical-align: top;\n",
       "    }\n",
       "\n",
       "    .dataframe thead th {\n",
       "        text-align: right;\n",
       "    }\n",
       "</style>\n",
       "<table border=\"1\" class=\"dataframe\">\n",
       "  <thead>\n",
       "    <tr style=\"text-align: right;\">\n",
       "      <th></th>\n",
       "      <th>species</th>\n",
       "      <th>island</th>\n",
       "      <th>bill_length_mm</th>\n",
       "      <th>bill_depth_mm</th>\n",
       "      <th>flipper_length_mm</th>\n",
       "      <th>body_mass_g</th>\n",
       "      <th>sex</th>\n",
       "    </tr>\n",
       "  </thead>\n",
       "  <tbody>\n",
       "    <tr>\n",
       "      <th>0</th>\n",
       "      <td>Adelie</td>\n",
       "      <td>Torgersen</td>\n",
       "      <td>39.1</td>\n",
       "      <td>18.7</td>\n",
       "      <td>181.0</td>\n",
       "      <td>3750.0</td>\n",
       "      <td>Male</td>\n",
       "    </tr>\n",
       "    <tr>\n",
       "      <th>1</th>\n",
       "      <td>Adelie</td>\n",
       "      <td>Torgersen</td>\n",
       "      <td>39.5</td>\n",
       "      <td>17.4</td>\n",
       "      <td>186.0</td>\n",
       "      <td>3800.0</td>\n",
       "      <td>Female</td>\n",
       "    </tr>\n",
       "    <tr>\n",
       "      <th>2</th>\n",
       "      <td>Adelie</td>\n",
       "      <td>Torgersen</td>\n",
       "      <td>40.3</td>\n",
       "      <td>18.0</td>\n",
       "      <td>195.0</td>\n",
       "      <td>3250.0</td>\n",
       "      <td>Female</td>\n",
       "    </tr>\n",
       "    <tr>\n",
       "      <th>3</th>\n",
       "      <td>Adelie</td>\n",
       "      <td>Torgersen</td>\n",
       "      <td>NaN</td>\n",
       "      <td>NaN</td>\n",
       "      <td>NaN</td>\n",
       "      <td>NaN</td>\n",
       "      <td>NaN</td>\n",
       "    </tr>\n",
       "    <tr>\n",
       "      <th>4</th>\n",
       "      <td>Adelie</td>\n",
       "      <td>Torgersen</td>\n",
       "      <td>36.7</td>\n",
       "      <td>19.3</td>\n",
       "      <td>193.0</td>\n",
       "      <td>3450.0</td>\n",
       "      <td>Female</td>\n",
       "    </tr>\n",
       "  </tbody>\n",
       "</table>\n",
       "</div>"
      ],
      "text/plain": [
       "  species     island  bill_length_mm  bill_depth_mm  flipper_length_mm  \\\n",
       "0  Adelie  Torgersen            39.1           18.7              181.0   \n",
       "1  Adelie  Torgersen            39.5           17.4              186.0   \n",
       "2  Adelie  Torgersen            40.3           18.0              195.0   \n",
       "3  Adelie  Torgersen             NaN            NaN                NaN   \n",
       "4  Adelie  Torgersen            36.7           19.3              193.0   \n",
       "\n",
       "   body_mass_g     sex  \n",
       "0       3750.0    Male  \n",
       "1       3800.0  Female  \n",
       "2       3250.0  Female  \n",
       "3          NaN     NaN  \n",
       "4       3450.0  Female  "
      ]
     },
     "execution_count": 86,
     "metadata": {},
     "output_type": "execute_result"
    }
   ],
   "source": [
    "df = sns.load_dataset('penguins')\n",
    "df.head()"
   ]
  },
  {
   "cell_type": "markdown",
   "id": "19b545f8-9db0-4a95-b5ca-589bab53e046",
   "metadata": {},
   "source": [
    "## Dividing Plotting Functions into \"Figure-Level\" and \"Axis-Level\" Units"
   ]
  },
  {
   "cell_type": "markdown",
   "id": "b80035f0-07f3-4e98-bb3b-7aeab554440b",
   "metadata": {},
   "source": [
    "Like Matplotlib, Seaborn has two main kinds of functions:  \n",
    "\n",
    "  - **Figure-Level** Functions (makes a `Figure` and all the `Axes` inside it) \n",
    "  - **Axes-Level** Functions (makes an `Axes`)\n",
    "  \n",
    "Figure-level functions are useful if you want Seaborn to make subplots; they tell Seaborn which Axes-level function to call under the hood.  If you want to manage subplots seperately, then Axes-level functions may be a better way to go. \n",
    "\n",
    "If you look on Seaborn's documentation, you'll see that within each type of plot, there is one Figure-level function that can call one of several Axes-level functions: https://seaborn.pydata.org/api.html"
   ]
  },
  {
   "cell_type": "markdown",
   "id": "9b6b13cc-cdf3-4bb3-b234-184602fd59ee",
   "metadata": {},
   "source": [
    "### Figure-Level Functions: `relplot()`, `displot()`, and `catplot()`\n",
    "\n",
    "Seaborn's plotting functions have a consistent syntax:\n",
    "\n",
    "`plot_fun(data=pd.DataFrame, **property:column_name)`, with `property` being any of several properties of a graph:\n",
    "\n",
    "  - `x`: the column plotted on the x axis\n",
    "  - `y`: the column plotted on the y axis\n",
    "  - `hue`: the column whose values are represented by the **color** of the data plotted\n",
    "  - `style`: if markers are used, the column whose values are represented by the style of the marker\n",
    "  - `row`: the column whose values determine which subplot row the data is plotted\n",
    "  - `col`: the column whose values determine which subplot column the data is plotted\n",
    "  \n",
    "For example: `sns.relplot(data=df, x='bill_length_mm', y='bill_depth_mm)`\n",
    "\n",
    "**Important**: Which plot function you use depends on whether the variables are continuous or categorical, and whether you want to emphasize their means or their distributions."
   ]
  },
  {
   "cell_type": "markdown",
   "id": "47b0c012-6c23-4180-a9d2-768f6328d102",
   "metadata": {},
   "source": [
    "**Exercises**\n",
    "\n",
    "Using only Figure-level plotting functions, answer the following questions:"
   ]
  },
  {
   "cell_type": "markdown",
   "id": "a2ce52fd-1342-4f73-9ed8-89ccafc4a94a",
   "metadata": {},
   "source": [
    "Does the length of the bill differ between penguin species?"
   ]
  },
  {
   "cell_type": "code",
   "execution_count": null,
   "id": "692565b8-82fb-4642-ba86-58852c7827d7",
   "metadata": {},
   "outputs": [],
   "source": []
  },
  {
   "cell_type": "markdown",
   "id": "d45e4ed4-36de-4756-b253-ab201ffa4058",
   "metadata": {},
   "source": [
    "Does the length of the bill differ between penguin sexes?"
   ]
  },
  {
   "cell_type": "code",
   "execution_count": null,
   "id": "412106f9-701b-4203-a3cc-7ee4d522ca1c",
   "metadata": {},
   "outputs": [],
   "source": []
  },
  {
   "cell_type": "markdown",
   "id": "e0de5eda-dd1a-40ef-af4b-a2215c499b47",
   "metadata": {},
   "source": [
    "Does the overall shape of the bill (length and depth, together) differ between penguin species?"
   ]
  },
  {
   "cell_type": "markdown",
   "id": "caf148ea-fb07-4acf-9379-71f72201740a",
   "metadata": {},
   "source": []
  },
  {
   "cell_type": "markdown",
   "id": "613d6ab0-2873-449a-85fa-6855b399cb12",
   "metadata": {},
   "source": [
    "Does the flipper length vary with body mass?"
   ]
  },
  {
   "cell_type": "code",
   "execution_count": null,
   "id": "ecbb9d14-fbab-4a2f-af32-7c1e6854554d",
   "metadata": {},
   "outputs": [],
   "source": []
  },
  {
   "cell_type": "markdown",
   "id": "de9cc19a-fc78-4967-a9c2-f252fb4c2dea",
   "metadata": {},
   "source": [
    "Does the flipper length vary with body mass, when species and sex are taken into account (i.e. if I feed my pet penguin more, will its flippers get longer)?"
   ]
  },
  {
   "cell_type": "code",
   "execution_count": null,
   "id": "c1205b33-e4a9-4141-ae0c-a170e418684d",
   "metadata": {},
   "outputs": [],
   "source": []
  },
  {
   "cell_type": "markdown",
   "id": "698e51b5-e62f-4c74-9728-1f52d94b2afc",
   "metadata": {},
   "source": [
    "Does the flipper length vary with body mass, when species and sex are taken into account (i.e. if I feed my pet penguin more, will its flippers get longer)?"
   ]
  },
  {
   "cell_type": "code",
   "execution_count": null,
   "id": "8a80d7e2-4c23-4e16-9264-1a755f9c4a97",
   "metadata": {},
   "outputs": [],
   "source": []
  },
  {
   "cell_type": "markdown",
   "id": "d9287fc6-5815-48f5-9be2-303cf8152731",
   "metadata": {},
   "source": [
    "## Replicate Figures, only Using Seaborn's Axis-Level Plotting Functions and Using Matplotlib to manage the subplots\n",
    "\n",
    "Make sure that:\n",
    "  - Each subplot has a title\n",
    "  - The axes on each subplot are aligned\n",
    "  - The colors on each subplot represent the same thing"
   ]
  },
  {
   "cell_type": "markdown",
   "id": "b8480b45-7d9b-4ade-87c4-eb4f6dee69cb",
   "metadata": {},
   "source": [
    "**Exercises**\n",
    "\n",
    "Using only Figure-level plotting functions, answer the following questions:"
   ]
  },
  {
   "cell_type": "markdown",
   "id": "1a6a6525-4398-4b54-851d-3e7d4cd22ddc",
   "metadata": {},
   "source": [
    "Does the length of the bill differ between penguin species?"
   ]
  },
  {
   "cell_type": "code",
   "execution_count": null,
   "id": "a1373ecb-1f47-4bb9-aa2b-6506cb993551",
   "metadata": {},
   "outputs": [],
   "source": []
  },
  {
   "cell_type": "markdown",
   "id": "82ac6c09-2e23-451b-942c-56af0adcf0a5",
   "metadata": {},
   "source": [
    "Does the length of the bill differ between penguin sexes?"
   ]
  },
  {
   "cell_type": "code",
   "execution_count": null,
   "id": "5fcffb08-f916-4916-853e-a008009bb3a4",
   "metadata": {},
   "outputs": [],
   "source": []
  },
  {
   "cell_type": "markdown",
   "id": "2b14991c-a89b-4fa7-bbb1-246dbae24a45",
   "metadata": {},
   "source": [
    "Does the overall shape of the bill (length and depth, together) differ between penguin species?"
   ]
  },
  {
   "cell_type": "markdown",
   "id": "32074d69-3ae5-4b4d-8c95-8e239b46acd8",
   "metadata": {},
   "source": []
  },
  {
   "cell_type": "markdown",
   "id": "832b89c5-f0d0-40fc-9cd2-658728c17c35",
   "metadata": {},
   "source": [
    "Does the flipper length vary with body mass?"
   ]
  },
  {
   "cell_type": "code",
   "execution_count": null,
   "id": "fff78a17-680e-4435-b8b2-04021959455e",
   "metadata": {},
   "outputs": [],
   "source": []
  },
  {
   "cell_type": "markdown",
   "id": "cceffffb-ee33-4d79-bc13-990e41bbb5b5",
   "metadata": {},
   "source": [
    "Does the flipper length vary with body mass, when species and sex are taken into account (i.e. if I feed my pet penguin more, will its flippers get longer)?"
   ]
  },
  {
   "cell_type": "code",
   "execution_count": null,
   "id": "e4b73cde-dad2-4f5e-9835-e0403519d7b0",
   "metadata": {},
   "outputs": [],
   "source": []
  },
  {
   "cell_type": "markdown",
   "id": "c075bc55-d606-4da6-a88d-6d95d7117754",
   "metadata": {},
   "source": [
    "Does the flipper length vary with body mass, when species and sex are taken into account (i.e. if I feed my pet penguin more, will its flippers get longer)?"
   ]
  },
  {
   "cell_type": "code",
   "execution_count": null,
   "id": "1aee1928-cb33-42f2-8116-4470b74ab3b8",
   "metadata": {},
   "outputs": [],
   "source": []
  },
  {
   "cell_type": "markdown",
   "id": "26474afd-4adf-4be7-8d4c-91a210e77069",
   "metadata": {},
   "source": [
    "## Replicate Figures, only Using Matplotlib's Plotting Functions and Using Matplotlib to manage the subplots\n",
    "\n",
    "Matplotlib doesn't automatically translate Pandas dataframes, and its plot functions are often a bit different from each other in interface, but that doesn't need to stop us!\n",
    "\n",
    "Use these docs for a helpful reference to Axes-level plotting functions: https://matplotlib.org/stable/api/axes_api.html#plotting\n",
    "\n",
    "As before, make sure that:\n",
    "  - Each subplot has a title\n",
    "  - The axes on each subplot are aligned\n",
    "  - The colors on each subplot represent the same thing"
   ]
  },
  {
   "cell_type": "markdown",
   "id": "148db916-b7a6-477d-9986-8be7d8599957",
   "metadata": {},
   "source": [
    "**Exercises**\n",
    "\n",
    "Using only Figure-level plotting functions, answer the following questions:"
   ]
  },
  {
   "cell_type": "markdown",
   "id": "54ab33ad-5f53-4eb3-8470-a492c4e545d1",
   "metadata": {},
   "source": [
    "Does the length of the bill differ between penguin species?"
   ]
  },
  {
   "cell_type": "code",
   "execution_count": null,
   "id": "ee52bfb8-40ef-4818-9f4c-40771a6bcf1d",
   "metadata": {},
   "outputs": [],
   "source": []
  },
  {
   "cell_type": "markdown",
   "id": "24c275ad-2204-4309-8376-06474e959902",
   "metadata": {},
   "source": [
    "Does the length of the bill differ between penguin sexes?"
   ]
  },
  {
   "cell_type": "code",
   "execution_count": null,
   "id": "5c13fd0e-af0e-43bb-992e-78fb8076bd38",
   "metadata": {},
   "outputs": [],
   "source": []
  },
  {
   "cell_type": "markdown",
   "id": "3e01f86b-9949-4ab7-a42f-2e185c7189b2",
   "metadata": {},
   "source": [
    "Does the overall shape of the bill (length and depth, together) differ between penguin species?"
   ]
  },
  {
   "cell_type": "markdown",
   "id": "063b6eb4-c64b-496f-8b33-609be5b89907",
   "metadata": {},
   "source": []
  },
  {
   "cell_type": "markdown",
   "id": "728d8a26-9245-4443-9c89-f0ff569547cf",
   "metadata": {},
   "source": [
    "Does the flipper length vary with body mass?"
   ]
  },
  {
   "cell_type": "code",
   "execution_count": null,
   "id": "3d3ed1ab-c565-47d5-ba30-d9e8d3b77bcc",
   "metadata": {},
   "outputs": [],
   "source": []
  },
  {
   "cell_type": "markdown",
   "id": "e29ca34b-8f39-4630-ab02-78e457231575",
   "metadata": {},
   "source": [
    "Does the flipper length vary with body mass, when species and sex are taken into account (i.e. if I feed my pet penguin more, will its flippers get longer)?"
   ]
  },
  {
   "cell_type": "code",
   "execution_count": null,
   "id": "9c1602e6-d513-4bd1-a6d0-746f41896259",
   "metadata": {},
   "outputs": [],
   "source": []
  },
  {
   "cell_type": "markdown",
   "id": "79830e0f-b38a-4737-96bd-482c3158ee65",
   "metadata": {},
   "source": [
    "Does the flipper length vary with body mass, when species and sex are taken into account (i.e. if I feed my pet penguin more, will its flippers get longer)?"
   ]
  },
  {
   "cell_type": "code",
   "execution_count": null,
   "id": "17775d8d-8594-426f-b0ab-ccb92798ad13",
   "metadata": {},
   "outputs": [],
   "source": []
  }
 ],
 "metadata": {
  "kernelspec": {
   "display_name": "Python 3",
   "language": "python",
   "name": "python3"
  },
  "language_info": {
   "codemirror_mode": {
    "name": "ipython",
    "version": 3
   },
   "file_extension": ".py",
   "mimetype": "text/x-python",
   "name": "python",
   "nbconvert_exporter": "python",
   "pygments_lexer": "ipython3",
   "version": "3.8.8"
  }
 },
 "nbformat": 4,
 "nbformat_minor": 5
}
